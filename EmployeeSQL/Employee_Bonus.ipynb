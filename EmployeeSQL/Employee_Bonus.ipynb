{
 "cells": [
  {
   "cell_type": "code",
   "execution_count": null,
   "metadata": {},
   "outputs": [],
   "source": [
    "# Bonus: Import the SQL database into Pandas\n",
    "# use the code below to get started:\n",
    "#This step may require some research. Feel free to use the code below to get started. \n",
    "#Be sure to make any necessary modifications for your username, password, host, port, and database name:\n",
    "\n",
    " ```sql\n",
    "   from sqlalchemy import create_engine\n",
    "   engine = create_engine('postgresql://localhost:5432/<your_db_name>')\n",
    "   connection = engine.connect()\n",
    "   ```\n",
    "    \n"
   ]
  },
  {
   "cell_type": "code",
   "execution_count": null,
   "metadata": {},
   "outputs": [],
   "source": [
    "#* Consult [SQLAlchemy documentation]\n",
    "# (https://docs.sqlalchemy.org/en/latest/core/engines.html#postgresql) for more information."
   ]
  },
  {
   "cell_type": "code",
   "execution_count": null,
   "metadata": {},
   "outputs": [],
   "source": [
    "#* If using a password, do not upload your password to your GitHub repository. \n",
    "# See \n",
    "# [https://www.youtube.com/watch?v=2uaTPmNvH0I]\n",
    "#    (https://www.youtube.com/watch?v=2uaTPmNvH0I) and \n",
    "# [https://help.github.com/en/github/using-git/ignoring-files]\n",
    "# (https://help.github.com/en/github/using-git/ignoring-files) for more information.\n"
   ]
  },
  {
   "cell_type": "code",
   "execution_count": null,
   "metadata": {},
   "outputs": [],
   "source": [
    "#2. Create a histogram to visualize the most common salary ranges for employees.\n"
   ]
  },
  {
   "cell_type": "code",
   "execution_count": null,
   "metadata": {},
   "outputs": [],
   "source": [
    "#3. Create a bar chart of average salary by title."
   ]
  }
 ],
 "metadata": {
  "kernelspec": {
   "display_name": "Python 3",
   "language": "python",
   "name": "python3"
  },
  "language_info": {
   "codemirror_mode": {
    "name": "ipython",
    "version": 3
   },
   "file_extension": ".py",
   "mimetype": "text/x-python",
   "name": "python",
   "nbconvert_exporter": "python",
   "pygments_lexer": "ipython3",
   "version": "3.8.3"
  }
 },
 "nbformat": 4,
 "nbformat_minor": 4
}
